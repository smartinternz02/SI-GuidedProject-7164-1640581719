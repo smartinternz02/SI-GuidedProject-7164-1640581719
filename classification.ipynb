{
 "cells": [
  {
   "cell_type": "code",
   "execution_count": 1,
   "id": "6b57a909",
   "metadata": {},
   "outputs": [],
   "source": [
    "import tensorflow\n",
    "from tensorflow.keras.preprocessing.image import ImageDataGenerator\n",
    "from tensorflow.keras.models import Sequential\n",
    "from tensorflow.keras.layers import Dense\n",
    "from tensorflow.keras.layers import Flatten\n",
    "from tensorflow.keras.layers import Conv2D\n",
    "from tensorflow.keras.layers import MaxPool2D\n",
    "from tensorflow.keras.layers import Dropout\n",
    "from tensorflow.keras.models import load_model\n",
    "import numpy as np"
   ]
  },
  {
   "cell_type": "code",
   "execution_count": 2,
   "id": "0690c68f",
   "metadata": {},
   "outputs": [],
   "source": [
    "datagen = ImageDataGenerator(rescale=1/225.0, validation_split=0.2)"
   ]
  },
  {
   "cell_type": "code",
   "execution_count": 3,
   "id": "0f69ce23",
   "metadata": {},
   "outputs": [],
   "source": [
    "img_width=64\n",
    "img_height=64"
   ]
  },
  {
   "cell_type": "code",
   "execution_count": 4,
   "id": "0c686d48",
   "metadata": {},
   "outputs": [
    {
     "name": "stdout",
     "output_type": "stream",
     "text": [
      "Found 22048 images belonging to 2 classes.\n"
     ]
    }
   ],
   "source": [
    "train_ds = datagen.flow_from_directory(directory=r'/home/harshit/Downloads/cell_images/cell_images',target_size=(64, 64), class_mode='binary', batch_size=16, subset='training')"
   ]
  },
  {
   "cell_type": "code",
   "execution_count": 5,
   "id": "890a4ea4",
   "metadata": {},
   "outputs": [
    {
     "name": "stdout",
     "output_type": "stream",
     "text": [
      "Found 5510 images belonging to 2 classes.\n"
     ]
    }
   ],
   "source": [
    "valid_ds = datagen.flow_from_directory(directory=r'/home/harshit/Downloads/cell_images/cell_images',target_size=(64, 64), class_mode='binary', batch_size=16, subset='validation')"
   ]
  },
  {
   "cell_type": "code",
   "execution_count": 6,
   "id": "696ca72d",
   "metadata": {},
   "outputs": [
    {
     "name": "stderr",
     "output_type": "stream",
     "text": [
      "2022-01-12 21:36:29.316573: I tensorflow/stream_executor/cuda/cuda_gpu_executor.cc:939] successful NUMA node read from SysFS had negative value (-1), but there must be at least one NUMA node, so returning NUMA node zero\n",
      "2022-01-12 21:36:29.347325: I tensorflow/stream_executor/cuda/cuda_gpu_executor.cc:939] successful NUMA node read from SysFS had negative value (-1), but there must be at least one NUMA node, so returning NUMA node zero\n",
      "2022-01-12 21:36:29.347596: I tensorflow/stream_executor/cuda/cuda_gpu_executor.cc:939] successful NUMA node read from SysFS had negative value (-1), but there must be at least one NUMA node, so returning NUMA node zero\n",
      "2022-01-12 21:36:29.348236: I tensorflow/core/platform/cpu_feature_guard.cc:151] This TensorFlow binary is optimized with oneAPI Deep Neural Network Library (oneDNN) to use the following CPU instructions in performance-critical operations:  AVX2 FMA\n",
      "To enable them in other operations, rebuild TensorFlow with the appropriate compiler flags.\n",
      "2022-01-12 21:36:29.348779: I tensorflow/stream_executor/cuda/cuda_gpu_executor.cc:939] successful NUMA node read from SysFS had negative value (-1), but there must be at least one NUMA node, so returning NUMA node zero\n",
      "2022-01-12 21:36:29.349017: I tensorflow/stream_executor/cuda/cuda_gpu_executor.cc:939] successful NUMA node read from SysFS had negative value (-1), but there must be at least one NUMA node, so returning NUMA node zero\n",
      "2022-01-12 21:36:29.349160: I tensorflow/stream_executor/cuda/cuda_gpu_executor.cc:939] successful NUMA node read from SysFS had negative value (-1), but there must be at least one NUMA node, so returning NUMA node zero\n",
      "2022-01-12 21:36:29.803108: I tensorflow/stream_executor/cuda/cuda_gpu_executor.cc:939] successful NUMA node read from SysFS had negative value (-1), but there must be at least one NUMA node, so returning NUMA node zero\n",
      "2022-01-12 21:36:29.803330: I tensorflow/stream_executor/cuda/cuda_gpu_executor.cc:939] successful NUMA node read from SysFS had negative value (-1), but there must be at least one NUMA node, so returning NUMA node zero\n",
      "2022-01-12 21:36:29.803494: I tensorflow/stream_executor/cuda/cuda_gpu_executor.cc:939] successful NUMA node read from SysFS had negative value (-1), but there must be at least one NUMA node, so returning NUMA node zero\n",
      "2022-01-12 21:36:29.803647: I tensorflow/core/common_runtime/gpu/gpu_device.cc:1525] Created device /job:localhost/replica:0/task:0/device:GPU:0 with 2587 MB memory:  -> device: 0, name: NVIDIA GeForce GTX 1650 Ti, pci bus id: 0000:01:00.0, compute capability: 7.5\n"
     ]
    }
   ],
   "source": [
    "model = Sequential()"
   ]
  },
  {
   "cell_type": "code",
   "execution_count": 7,
   "id": "d2a8a018",
   "metadata": {},
   "outputs": [],
   "source": [
    "model.add(Conv2D(16,(3,3), input_shape=(img_width, img_height, 3), activation='relu'))\n",
    "model.add(MaxPool2D(2,2))\n",
    "model.add(Dropout(0.2))\n",
    "model.add(Conv2D(32,(3,3), activation='relu'))\n",
    "model.add(MaxPool2D(2,2))\n",
    "model.add(Dropout(0.3))\n",
    "model.add(Flatten())\n",
    "model.add(Dense(64, activation='relu'))\n",
    "model.add(Dropout(0.5))\n",
    "model.add(Dense(1, activation='sigmoid'))"
   ]
  },
  {
   "cell_type": "code",
   "execution_count": 8,
   "id": "5196297c",
   "metadata": {},
   "outputs": [
    {
     "name": "stdout",
     "output_type": "stream",
     "text": [
      "Model: \"sequential\"\n",
      "_________________________________________________________________\n",
      " Layer (type)                Output Shape              Param #   \n",
      "=================================================================\n",
      " conv2d (Conv2D)             (None, 62, 62, 16)        448       \n",
      "                                                                 \n",
      " max_pooling2d (MaxPooling2D  (None, 31, 31, 16)       0         \n",
      " )                                                               \n",
      "                                                                 \n",
      " dropout (Dropout)           (None, 31, 31, 16)        0         \n",
      "                                                                 \n",
      " conv2d_1 (Conv2D)           (None, 29, 29, 32)        4640      \n",
      "                                                                 \n",
      " max_pooling2d_1 (MaxPooling  (None, 14, 14, 32)       0         \n",
      " 2D)                                                             \n",
      "                                                                 \n",
      " dropout_1 (Dropout)         (None, 14, 14, 32)        0         \n",
      "                                                                 \n",
      " flatten (Flatten)           (None, 6272)              0         \n",
      "                                                                 \n",
      " dense (Dense)               (None, 64)                401472    \n",
      "                                                                 \n",
      " dropout_2 (Dropout)         (None, 64)                0         \n",
      "                                                                 \n",
      " dense_1 (Dense)             (None, 1)                 65        \n",
      "                                                                 \n",
      "=================================================================\n",
      "Total params: 406,625\n",
      "Trainable params: 406,625\n",
      "Non-trainable params: 0\n",
      "_________________________________________________________________\n"
     ]
    }
   ],
   "source": [
    "model.summary()"
   ]
  },
  {
   "cell_type": "code",
   "execution_count": 9,
   "id": "3fa46430",
   "metadata": {},
   "outputs": [],
   "source": [
    "model.compile(optimizer='adam', loss='binary_crossentropy', metrics=['accuracy'])"
   ]
  },
  {
   "cell_type": "code",
   "execution_count": 10,
   "id": "13bc7856",
   "metadata": {},
   "outputs": [
    {
     "name": "stdout",
     "output_type": "stream",
     "text": [
      "Epoch 1/5\n"
     ]
    },
    {
     "name": "stderr",
     "output_type": "stream",
     "text": [
      "2022-01-12 21:36:30.975638: I tensorflow/stream_executor/cuda/cuda_dnn.cc:366] Loaded cuDNN version 8300\n"
     ]
    },
    {
     "name": "stdout",
     "output_type": "stream",
     "text": [
      "1378/1378 [==============================] - 22s 15ms/step - loss: 0.4569 - accuracy: 0.7808 - val_loss: 0.2200 - val_accuracy: 0.9299\n",
      "Epoch 2/5\n",
      "1378/1378 [==============================] - 20s 14ms/step - loss: 0.2249 - accuracy: 0.9258 - val_loss: 0.1873 - val_accuracy: 0.9338\n",
      "Epoch 3/5\n",
      "1378/1378 [==============================] - 20s 14ms/step - loss: 0.2023 - accuracy: 0.9335 - val_loss: 0.1815 - val_accuracy: 0.9332\n",
      "Epoch 4/5\n",
      "1378/1378 [==============================] - 20s 14ms/step - loss: 0.1864 - accuracy: 0.9341 - val_loss: 0.1756 - val_accuracy: 0.9336\n",
      "Epoch 5/5\n",
      "1378/1378 [==============================] - 20s 14ms/step - loss: 0.1794 - accuracy: 0.9352 - val_loss: 0.2161 - val_accuracy: 0.9298\n"
     ]
    }
   ],
   "source": [
    "history = model.fit(train_ds,\n",
    "                    steps_per_epoch = len(train_ds),\n",
    "                    epochs = 5,\n",
    "                    validation_data = valid_ds,\n",
    "                    validation_steps = len(valid_ds))"
   ]
  },
  {
   "cell_type": "code",
   "execution_count": 11,
   "id": "3d6a2881",
   "metadata": {},
   "outputs": [],
   "source": [
    "model.save('model.h5')"
   ]
  },
  {
   "cell_type": "code",
   "execution_count": 13,
   "id": "0f7dd454",
   "metadata": {},
   "outputs": [
    {
     "name": "stdout",
     "output_type": "stream",
     "text": [
      "345/345 [==============================] - 4s 12ms/step - loss: 0.2161 - accuracy: 0.9298\n"
     ]
    }
   ],
   "source": [
    "result = model.evaluate(valid_ds)"
   ]
  },
  {
   "cell_type": "code",
   "execution_count": 14,
   "id": "99c84b2d",
   "metadata": {},
   "outputs": [
    {
     "data": {
      "image/png": "[encoded data removed]",
      "text/plain": [
       "<Figure size 720x504 with 1 Axes>"
      ]
     },
     "metadata": {
      "needs_background": "light"
     },
     "output_type": "display_data"
    }
   ],
   "source": [
    "import pandas as pd\n",
    "pd.DataFrame(history.history).plot(figsize=(10, 7));"
   ]
  },
  {
   "cell_type": "code",
   "execution_count": null,
   "id": "3d81a3f4",
   "metadata": {},
   "outputs": [],
   "source": []
  },
  {
   "cell_type": "code",
   "execution_count": 15,
   "id": "792e59ed",
   "metadata": {},
   "outputs": [],
   "source": [
    "# from tensorflow.keras.preprocessing import image\n",
    "# # img = image.load_img(r'/home/harshit/Downloads/cell_images/cell_images/Uninfected/C208ThinF_IMG_20151029_155436_cell_127.png', target_size=(124,img_height))\n",
    "# #img = image.load_img('/home/harshit/Downloads/cell_images/cell_images/Uninfected/C208ThinF_IMG_20151029_155436_cell_127.png', target_size=(64,64))\n",
    "\n",
    "\n",
    "# import cv2\n",
    "# img = cv2.imread('/home/harshit/Downloads/cell_images/cell_images/Uninfected/C208ThinF_IMG_20151029_155436_cell_127.png')\n",
    "# # img = cv2.imread('/home/harshit/Downloads/cell_images/cell_images/Uninfected/C99P60ThinF_IMG_20150918_142128_cell_45.png')\n",
    "# img = cv2.resize(img,(64,64))\n",
    "# img = img.reshape(64,64,3) \n",
    "\n",
    "\n",
    "# x = image.img_to_array(img)\n",
    "# x.shape"
   ]
  },
  {
   "cell_type": "code",
   "execution_count": 16,
   "id": "c22689fa",
   "metadata": {},
   "outputs": [],
   "source": [
    "# a = model.predict(x)\n",
    "# print(a)\n",
    "# if(a == 1):\n",
    "#     print(\"uninfected\")\n",
    "# else:\n",
    "#     print(\"infected\")"
   ]
  },
  {
   "cell_type": "code",
   "execution_count": null,
   "id": "059de30f",
   "metadata": {},
   "outputs": [],
   "source": []
  },
  {
   "cell_type": "code",
   "execution_count": null,
   "id": "9d14b7e5",
   "metadata": {},
   "outputs": [],
   "source": []
  },
  {
   "cell_type": "code",
   "execution_count": 17,
   "id": "591dcd5a",
   "metadata": {},
   "outputs": [],
   "source": [
    "# img = cv2.imread('/home/harshit/Downloads/cell_images/cell_images/Parasitized/C182P143NThinF_IMG_20151201_172607_cell_43.png')\n",
    "# #img = img.reshape(64, 64, 3)\n",
    "# # img = cv2.resize(img,(64,64,3))\n",
    "# img = cv2.resize(img,(64,64))\n",
    "# img = img.reshape(64,64,3)\n",
    "\n",
    "# x = image.img_to_array(img)\n",
    "\n",
    "# a = model.predict(x)\n",
    "# print(a)\n",
    "# if(a == 0):\n",
    "#     print(\"uninfected\")\n",
    "# else:\n",
    "#     print(\"infected\")"
   ]
  },
  {
   "cell_type": "code",
   "execution_count": null,
   "id": "cbb2998e",
   "metadata": {},
   "outputs": [],
   "source": []
  },
  {
   "cell_type": "code",
   "execution_count": 18,
   "id": "c9d24a96",
   "metadata": {},
   "outputs": [],
   "source": [
    "model = load_model('model.h5')"
   ]
  },
  {
   "cell_type": "code",
   "execution_count": 27,
   "id": "95ceeeeb",
   "metadata": {},
   "outputs": [],
   "source": [
    "import os\n",
    "import numpy as np\n",
    "\n",
    "def predict(img):\n",
    "    x = image.img_to_array(img)\n",
    "    x = x/255.0\n",
    "    x = np.expand_dims(x,axis=0)\n",
    "    proba = model.predict(x)[0][0]\n",
    "    print(proba)\n",
    "    y = \"Uninfected\" if proba > 0.9 else \"Parasitized\"\n",
    "    return y"
   ]
  },
  {
   "cell_type": "code",
   "execution_count": 28,
   "id": "c998d9d4",
   "metadata": {},
   "outputs": [
    {
     "name": "stdout",
     "output_type": "stream",
     "text": [
      "0.03415975\n",
      "Parasitized\n"
     ]
    }
   ],
   "source": [
    "from tensorflow.keras.preprocessing import image\n",
    "\n",
    "path = '/home/harshit/Downloads/cell_images/cell_images/Parasitized/C182P143NThinF_IMG_20151201_172607_cell_43.png'\n",
    "\n",
    "img = image.load_img(path,target_size=(64, 64))\n",
    "\n",
    "pred = predict(img)\n",
    "print(pred)"
   ]
  },
  {
   "cell_type": "code",
   "execution_count": 29,
   "id": "8dea420a",
   "metadata": {},
   "outputs": [
    {
     "name": "stdout",
     "output_type": "stream",
     "text": [
      "0.9110031\n",
      "Uninfected\n"
     ]
    }
   ],
   "source": [
    "from tensorflow.keras.preprocessing import image\n",
    "\n",
    "path = '/home/harshit/Downloads/cell_images/cell_images/Uninfected/C99P60ThinF_IMG_20150918_142128_cell_14.png'\n",
    "\n",
    "img = image.load_img(path,target_size=(64, 64))\n",
    "\n",
    "pred = predict(img)\n",
    "print(pred)"
   ]
  },
  {
   "cell_type": "code",
   "execution_count": 31,
   "id": "2ad5c67e",
   "metadata": {},
   "outputs": [
    {
     "name": "stdout",
     "output_type": "stream",
     "text": [
      "prediction [[1.]]\n",
      "prediction: Uninfected\n"
     ]
    }
   ],
   "source": [
    "img = image.load_img(path, target_size=(64,64))\n",
    "x = image.img_to_array(img)\n",
    "x = np.expand_dims(x, axis=0)\n",
    "pred = model.predict(x)\n",
    "print(\"prediction\", pred)\n",
    "if(pred == 1):\n",
    "    result = \"Uninfected\"\n",
    "else:\n",
    "    result = \"Infected\"\n",
    "\n",
    "print(\"prediction:\", result)"
   ]
  },
  {
   "cell_type": "code",
   "execution_count": null,
   "id": "3f11428d",
   "metadata": {},
   "outputs": [],
   "source": []
  }
 ],
 "metadata": {
  "kernelspec": {
   "display_name": "Python 3 (ipykernel)",
   "language": "python",
   "name": "python3"
  },
  "language_info": {
   "codemirror_mode": {
    "name": "ipython",
    "version": 3
   },
   "file_extension": ".py",
   "mimetype": "text/x-python",
   "name": "python",
   "nbconvert_exporter": "python",
   "pygments_lexer": "ipython3",
   "version": "3.8.12"
  }
 },
 "nbformat": 4,
 "nbformat_minor": 5
}
